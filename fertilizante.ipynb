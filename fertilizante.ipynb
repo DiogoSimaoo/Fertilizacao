{
 "cells": [
  {
   "cell_type": "code",
   "execution_count": 20,
   "metadata": {},
   "outputs": [],
   "source": [
    "class Fertilizante:\n",
    "    def __init__(self, nome, N, P2O5, K2O, CaO, MgO, SO3, preco):\n",
    "        self.nome = nome\n",
    "        self.N = N\n",
    "        self.P2O5 = P2O5\n",
    "        self.K2O = K2O\n",
    "        self.CaO = CaO\n",
    "        self.MgO = MgO\n",
    "        self.SO3 = SO3\n",
    "        self.preco = preco\n",
    "        \n"
   ]
  },
  {
   "cell_type": "code",
   "execution_count": 24,
   "metadata": {},
   "outputs": [],
   "source": [
    "Fertilizantes= [\n",
    "    \n",
    "Fertilizante(nome=\"Sulfato_Amonio\", N = 21.2, P2O5= 0, K2O= 0, CaO=0, MgO=0, SO3=60.6, preco=0.276 ),\n",
    "\n",
    "Fertilizante(nome=\"Nitrato_Calcio\", N = 15.6, P2O5= 0, K2O= 0, CaO=26, MgO=0, SO3=0, preco= 0.326),\n",
    "\n",
    "Fertilizante(nome=\"Nitrato_Amonio\", N = 32.4, P2O5= 0, K2O= 0, CaO=0, MgO=0, SO3=0, preco= 0.43),\n",
    "\n",
    "Fertilizante(nome=\"Sulfato_magnesio\", N = 0, P2O5= 0, K2O= 0, CaO=0, MgO=15.9, SO3=31.8, preco=0.6 ),\n",
    "\n",
    "Fertilizante(nome=\"Nitrato_magnesio\", N = 11, P2O5= 0, K2O= 0, CaO=0, MgO=15.7, SO3=0, preco=  0.6),\n",
    "\n",
    "Fertilizante(nome=\"Nitrato_potassio\", N = 13.8, P2O5= 0, K2O= 46.5, CaO=0, MgO=0, SO3=0, preco= 0.9),\n",
    "\n",
    "Fertilizante(nome=\"Sulfato_potassio\", N = 0, P2O5= 0, K2O= 52.1, CaO=0, MgO=0, SO3=44.1, preco=0.718 ),\n",
    "\n",
    "Fertilizante(nome=\"Ureia\", N = 46, P2O5= 0, K2O= 0, CaO=0, MgO=0, SO3=0, preco=0.48 ),\n",
    "\n",
    "Fertilizante(nome=\"Suoerfosfato_Normal\", N = 0, P2O5= 18, K2O= 0, CaO=32.2, MgO=0, SO3=30, preco= 0.23),\n",
    "\n",
    "Fertilizante(nome=\"Suoerfosfato_Triplo\", N = 0, P2O5= 42, K2O= 0, CaO=22.4, MgO=0, SO3=5, preco=0.428 ),\n",
    "\n",
    "Fertilizante(nome=\"rocha_fosfatada\", N = 0, P2O5= 33.4, K2O= 0, CaO=45.4, MgO=0, SO3=0, preco= 0.345)\n",
    "\n",
    "]"
   ]
  },
  {
   "cell_type": "code",
   "execution_count": 27,
   "metadata": {},
   "outputs": [
    {
     "name": "stdout",
     "output_type": "stream",
     "text": [
      "El fertilizante con el mayor porcentaje de MgO es: Sulfato_magnesio con 15.9%\n"
     ]
    }
   ],
   "source": [
    "nutriente_desejado = \"MgO\"\n",
    "fertilizante_max_nutriente = max(Fertilizantes, key=lambda x: getattr(x, nutriente_desejado))\n",
    "print(f\"El fertilizante con el mayor porcentaje de {nutriente_desejado} es: {fertilizante_max_nutriente.nome} con {getattr(fertilizante_max_nutriente, nutriente_desejado)}%\")"
   ]
  }
 ],
 "metadata": {
  "kernelspec": {
   "display_name": "Python 3",
   "language": "python",
   "name": "python3"
  },
  "language_info": {
   "codemirror_mode": {
    "name": "ipython",
    "version": 3
   },
   "file_extension": ".py",
   "mimetype": "text/x-python",
   "name": "python",
   "nbconvert_exporter": "python",
   "pygments_lexer": "ipython3",
   "version": "3.9.13"
  }
 },
 "nbformat": 4,
 "nbformat_minor": 2
}
