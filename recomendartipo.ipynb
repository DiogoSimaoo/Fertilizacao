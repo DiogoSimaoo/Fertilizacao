{
 "cells": [
  {
   "cell_type": "code",
   "execution_count": 30,
   "metadata": {},
   "outputs": [
    {
     "name": "stdout",
     "output_type": "stream",
     "text": [
      "['NO3', 'Ureia', 'Fosforo_soluvel']\n",
      "[]\n"
     ]
    }
   ],
   "source": [
    "#recomendar tipo de fertilizante para N e P\n",
    "\n",
    "nutrientes_sujeitos_a_tipo  = [\"N\", \"P\"]\n",
    "\n",
    "Tipo_de_fertilizantes=[]\n",
    "\n",
    "cultura_instalada = input(\"A cultura já está instalada? (Responda: Sim ou Não) \")\n",
    "\n",
    "Notas=[]\n",
    "\n",
    "ph= 5\n",
    "\n",
    "for nutriente in nutrientes_sujeitos_a_tipo:\n",
    "    if nutriente == \"N\":\n",
    "        if cultura_instalada == \"Não\":\n",
    "            Tipo_de_fertilizantes.append(\"NH4\")\n",
    "        elif cultura_instalada == \"Sim\":\n",
    "            Chuva = input(\"É provavel ocorrer chuva neste mês? (Responda: Sim ou Não) \")\n",
    "            if Chuva == \"Sim\":\n",
    "                if ph < 5.5:\n",
    "                    Tipo_de_fertilizantes.append(\"NH4\")\n",
    "                else:\n",
    "                    Tipo_de_fertilizantes.append(\"NH4\")\n",
    "                    Notas.append(\"Enterrar fertilizante para evitar volatilização do NH3\")\n",
    "            elif Chuva == \"Não\":\n",
    "                falta_oxigenio = input(\"A sua cultura sofre alagamento? (Responda: Sim ou Não) \")\n",
    "                if falta_oxigenio == \"Sim\":\n",
    "                    Tipo_de_fertilizantes.append(\"NH4\")\n",
    "                elif falta_oxigenio == \"Não\":\n",
    "                    Tipo_de_fertilizantes.append(\"NO3\")\n",
    "                    Tipo_de_fertilizantes.append(\"Ureia\")\n",
    "    elif nutriente == \"P\":\n",
    "        if cultura_instalada == \"Não\":\n",
    "            Tipo_de_fertilizantes.append(\"Fosfatos Naturais Moídos\")\n",
    "        elif cultura_instalada == \"Sim\":\n",
    "            Tipo_de_fertilizantes.append(\"Fosforo_soluvel\")\n",
    "                          \n",
    "print(Tipo_de_fertilizantes)\n",
    "print(Notas)\n",
    "                \n",
    "            \n",
    "    "
   ]
  },
  {
   "cell_type": "code",
   "execution_count": 31,
   "metadata": {},
   "outputs": [
    {
     "name": "stdout",
     "output_type": "stream",
     "text": [
      "['Nitrato_Amonio', 'Ureia', 'Superfosfato_Normal', 'Superfosfato_triplo', 'Sulfato_potassio', 'Nitrato_potassio', 'Nitrato_Calcio', 'Sulfato_magnesio', 'Nitrato_magnesio']\n"
     ]
    }
   ],
   "source": [
    "#recomendar formula de fertilizante para N,P,K,Ca,Mg\n",
    "\n",
    "nutrientes_formula  = [\"N\", \"P\", \"K\", \"Ca\", \"Mg\"]\n",
    "fertilizantes_recomendados = []\n",
    "\n",
    "for nutriente in nutrientes_formula:\n",
    "    if nutriente == \"N\":\n",
    "        if \"NH4\" in Tipo_de_fertilizantes:\n",
    "            if ph < 5.5:\n",
    "                fertilizantes_recomendados.append(\"Sulfato_Amonio\")\n",
    "        elif \"NO3\" or \"Ureia\" in Tipo_de_fertilizantes:\n",
    "            fertilizantes_recomendados.append(\"Nitrato_Amonio\")\n",
    "            fertilizantes_recomendados.append(\"Ureia\")\n",
    "    elif nutriente == \"P\":\n",
    "        if \"Fosfatos Naturais Moídos\" in Tipo_de_fertilizantes:\n",
    "            fertilizantes_recomendados.append(\"rocha_fosfatada\")\n",
    "        elif \"Fosforo_soluvel\" in Tipo_de_fertilizantes: \n",
    "            fertilizantes_recomendados.append(\"Superfosfato_Normal\")\n",
    "            fertilizantes_recomendados.append(\"Superfosfato_triplo\")\n",
    "    elif nutriente == \"K\":\n",
    "        fertilizantes_recomendados.append(\"Sulfato_potassio\")\n",
    "        if \"NO3\" or \"Ureia\" in Tipo_de_fertilizantes:\n",
    "            fertilizantes_recomendados.append(\"Nitrato_potassio\")\n",
    "    elif nutriente == \"Ca\":\n",
    "        fertilizantes_recomendados.append(\"Nitrato_Calcio\")\n",
    "    elif nutriente == \"Mg\":\n",
    "        fertilizantes_recomendados.append(\"Sulfato_magnesio\")\n",
    "        if \"NO3\" or \"Ureia\" in Tipo_de_fertilizantes:\n",
    "            fertilizantes_recomendados.append(\"Nitrato_magnesio\")\n",
    "        \n",
    "print(fertilizantes_recomendados)\n",
    "\n",
    "\n"
   ]
  },
  {
   "cell_type": "code",
   "execution_count": 34,
   "metadata": {},
   "outputs": [
    {
     "name": "stdout",
     "output_type": "stream",
     "text": [
      "Nitrato_Calcio\n",
      "Nitrato_Amonio\n",
      "Sulfato_magnesio\n",
      "Nitrato_magnesio\n",
      "Nitrato_potassio\n",
      "Sulfato_potassio\n",
      "Ureia\n",
      "Superfosfato_Normal\n",
      "Superfosfato_triplo\n"
     ]
    }
   ],
   "source": [
    "class Fertilizante:\n",
    "    def __init__(self, nome, N, P2O5, K2O, CaO, MgO, SO3, preco):\n",
    "        self.nome = nome\n",
    "        self.N = N\n",
    "        self.P2O5 = P2O5\n",
    "        self.K2O = K2O\n",
    "        self.CaO = CaO\n",
    "        self.MgO = MgO\n",
    "        self.SO3 = SO3\n",
    "        self.preco = preco\n",
    "\n",
    "Fertilizantes= [\n",
    "    \n",
    "Fertilizante(nome=\"Sulfato_Amonio\", N = 21.2, P2O5= 0, K2O= 0, CaO=0, MgO=0, SO3=60.6, preco=0.276 ),\n",
    "\n",
    "Fertilizante(nome=\"Nitrato_Calcio\", N = 15.6, P2O5= 0, K2O= 0, CaO=26, MgO=0, SO3=0, preco= 0.326),\n",
    "\n",
    "Fertilizante(nome=\"Nitrato_Amonio\", N = 32.4, P2O5= 0, K2O= 0, CaO=0, MgO=0, SO3=0, preco= 0.43),\n",
    "\n",
    "Fertilizante(nome=\"Sulfato_magnesio\", N = 0, P2O5= 0, K2O= 0, CaO=0, MgO=15.9, SO3=31.8, preco=0.6 ),\n",
    "\n",
    "Fertilizante(nome=\"Nitrato_magnesio\", N = 11, P2O5= 0, K2O= 0, CaO=0, MgO=15.7, SO3=0, preco=  0.6),\n",
    "\n",
    "Fertilizante(nome=\"Nitrato_potassio\", N = 13.8, P2O5= 0, K2O= 46.5, CaO=0, MgO=0, SO3=0, preco= 0.9),\n",
    "\n",
    "Fertilizante(nome=\"Sulfato_potassio\", N = 0, P2O5= 0, K2O= 52.1, CaO=0, MgO=0, SO3=44.1, preco=0.718 ),\n",
    "\n",
    "Fertilizante(nome=\"Ureia\", N = 46, P2O5= 0, K2O= 0, CaO=0, MgO=0, SO3=0, preco=0.48 ),\n",
    "\n",
    "Fertilizante(nome=\"Superfosfato_Normal\", N = 0, P2O5= 18, K2O= 0, CaO=32.2, MgO=0, SO3=30, preco= 0.23),\n",
    "\n",
    "Fertilizante(nome=\"Superfosfato_triplo\", N = 0, P2O5= 42, K2O= 0, CaO=22.4, MgO=0, SO3=5, preco=0.428 ),\n",
    "\n",
    "Fertilizante(nome=\"rocha_fosfatada\", N = 0, P2O5= 33.4, K2O= 0, CaO=45.4, MgO=0, SO3=0, preco= 0.345)\n",
    "\n",
    "]\n",
    "#passar uma lista de instancias de fertilizantes que estejam incluidos na listra de fertilizantes recoemndados para poder ter acesso aos objetos\n",
    "fertilizantes_selecionados = [Fertilizante for Fertilizante in Fertilizantes if Fertilizante.nome in fertilizantes_recomendados]\n",
    "for fertilizante in fertilizantes_selecionados:\n",
    "    print(f\"{fertilizante.nome}\")\n"
   ]
  },
  {
   "cell_type": "code",
   "execution_count": 33,
   "metadata": {},
   "outputs": [
    {
     "name": "stdout",
     "output_type": "stream",
     "text": [
      "El fertilizante con el mayor porcentaje de MgO es: Sulfato_magnesio con 15.9%\n",
      "El fertilizante con el mayor porcentaje de CaO es: Superfosfato_Normal con 32.2%\n",
      "El fertilizante con el mayor porcentaje de K2O es: Sulfato_potassio con 52.1%\n",
      "El fertilizante con el mayor porcentaje de P2O5 es: Superfosfato_triplo con 42%\n",
      "El fertilizante con el mayor porcentaje de N es: Ureia con 46%\n"
     ]
    }
   ],
   "source": [
    "nutrientes_para_seleção=[\"MgO\",\"CaO\",\"K2O\",\"P2O5\",\"N\"]\n",
    "\n",
    "for nutriente in nutrientes_para_seleção:\n",
    "    \n",
    "    fertilizante_max_nutriente = max(fertilizantes_selecionados, key=lambda x: getattr(x, nutriente))\n",
    "    print(f\"El fertilizante con el mayor porcentaje de {nutriente} es: {fertilizante_max_nutriente.nome} con {getattr(fertilizante_max_nutriente, nutriente)}%\")"
   ]
  }
 ],
 "metadata": {
  "kernelspec": {
   "display_name": "Python 3",
   "language": "python",
   "name": "python3"
  },
  "language_info": {
   "codemirror_mode": {
    "name": "ipython",
    "version": 3
   },
   "file_extension": ".py",
   "mimetype": "text/x-python",
   "name": "python",
   "nbconvert_exporter": "python",
   "pygments_lexer": "ipython3",
   "version": "3.9.13"
  }
 },
 "nbformat": 4,
 "nbformat_minor": 2
}
