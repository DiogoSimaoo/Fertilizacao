{
 "cells": [
  {
   "cell_type": "code",
   "execution_count": 3,
   "metadata": {},
   "outputs": [
    {
     "name": "stdout",
     "output_type": "stream",
     "text": [
      "['NO3', 'Ureia', 'Fosforo_soluvel']\n",
      "[]\n"
     ]
    }
   ],
   "source": [
    "#recomendar tipo de fertilizante para N e P\n",
    "\n",
    "nutrientes_sujeitos_a_tipo  = [\"N\", \"P\"]\n",
    "\n",
    "Tipo_de_fertilizantes=[]\n",
    "\n",
    "cultura_instalada = input(\"A cultura já está instalada? (Responda: Sim ou Não) \")\n",
    "\n",
    "Notas=[]\n",
    "\n",
    "ph= 5\n",
    "\n",
    "for nutriente in nutrientes_sujeitos_a_tipo:\n",
    "    if nutriente == \"N\":\n",
    "        if cultura_instalada == \"Não\":\n",
    "            Tipo_de_fertilizantes.append(\"NH4\")\n",
    "        elif cultura_instalada == \"Sim\":\n",
    "            Chuva = input(\"É provavel ocorrer chuva neste mês? (Responda: Sim ou Não) \")\n",
    "            if Chuva == \"Sim\":\n",
    "                if ph < 5.5:\n",
    "                    Tipo_de_fertilizantes.append(\"NH4\")\n",
    "                else:\n",
    "                    Tipo_de_fertilizantes.append(\"NH4\")\n",
    "                    Notas.append(\"Enterrar fertilizante para evitar volatilização do NH3\")\n",
    "            elif Chuva == \"Não\":\n",
    "                falta_oxigenio = input(\"A sua cultura sofre alagamento? (Responda: Sim ou Não) \")\n",
    "                if falta_oxigenio == \"Sim\":\n",
    "                    Tipo_de_fertilizantes.append(\"NH4\")\n",
    "                elif falta_oxigenio == \"Não\":\n",
    "                    Tipo_de_fertilizantes.append(\"NO3\")\n",
    "                    Tipo_de_fertilizantes.append(\"Ureia\")\n",
    "    elif nutriente == \"P\":\n",
    "        if cultura_instalada == \"Não\":\n",
    "            Tipo_de_fertilizantes.append(\"Fosfatos Naturais Moídos\")\n",
    "        elif cultura_instalada == \"Sim\":\n",
    "            Tipo_de_fertilizantes.append(\"Fosforo_soluvel\")\n",
    "                          \n",
    "print(Tipo_de_fertilizantes)\n",
    "print(Notas)\n",
    "                \n",
    "            \n",
    "    "
   ]
  },
  {
   "cell_type": "code",
   "execution_count": 4,
   "metadata": {},
   "outputs": [
    {
     "name": "stdout",
     "output_type": "stream",
     "text": [
      "['Nitrato_Amonio', 'Ureia', 'Superfosfato_Normal', 'Superfosfato_triplo', 'Sulfato_potassio', 'Nitrato_potassio', 'Nitrato_Calcio', 'Sulfato_magnesio', 'Nitrato_magnesio']\n"
     ]
    }
   ],
   "source": [
    "#recomendar formula de fertilizante para N,P,K,Ca,Mg\n",
    "\n",
    "nutrientes_formula  = [\"N\", \"P\", \"K\", \"Ca\", \"Mg\"]\n",
    "fertilizantes_recomendados = []\n",
    "\n",
    "for nutriente in nutrientes_formula:\n",
    "    if nutriente == \"N\":\n",
    "        if \"NH4\" in Tipo_de_fertilizantes:\n",
    "            if ph < 5.5:\n",
    "                fertilizantes_recomendados.append(\"Sulfato_Amonio\")\n",
    "        elif \"NO3\" or \"Ureia\" in Tipo_de_fertilizantes:\n",
    "            fertilizantes_recomendados.append(\"Nitrato_Amonio\")\n",
    "            fertilizantes_recomendados.append(\"Ureia\")\n",
    "    elif nutriente == \"P\":\n",
    "        if \"Fosfatos Naturais Moídos\" in Tipo_de_fertilizantes:\n",
    "            fertilizantes_recomendados.append(\"rocha_fosfatada\")\n",
    "        elif \"Fosforo_soluvel\" in Tipo_de_fertilizantes: \n",
    "            fertilizantes_recomendados.append(\"Superfosfato_Normal\")\n",
    "            fertilizantes_recomendados.append(\"Superfosfato_triplo\")\n",
    "    elif nutriente == \"K\":\n",
    "        fertilizantes_recomendados.append(\"Sulfato_potassio\")\n",
    "        if \"NO3\" or \"Ureia\" in Tipo_de_fertilizantes:\n",
    "            fertilizantes_recomendados.append(\"Nitrato_potassio\")\n",
    "    elif nutriente == \"Ca\":\n",
    "        fertilizantes_recomendados.append(\"Nitrato_Calcio\")\n",
    "    elif nutriente == \"Mg\":\n",
    "        fertilizantes_recomendados.append(\"Sulfato_magnesio\")\n",
    "        if \"NO3\" or \"Ureia\" in Tipo_de_fertilizantes:\n",
    "            fertilizantes_recomendados.append(\"Nitrato_magnesio\")\n",
    "        \n",
    "print(fertilizantes_recomendados)\n",
    "\n",
    "\n",
    "# hii\n"
   ]
  }
 ],
 "metadata": {
  "kernelspec": {
   "display_name": "Python 3",
   "language": "python",
   "name": "python3"
  },
  "language_info": {
   "codemirror_mode": {
    "name": "ipython",
    "version": 3
   },
   "file_extension": ".py",
   "mimetype": "text/x-python",
   "name": "python",
   "nbconvert_exporter": "python",
   "pygments_lexer": "ipython3",
   "version": "3.9.13"
  }
 },
 "nbformat": 4,
 "nbformat_minor": 2
}
